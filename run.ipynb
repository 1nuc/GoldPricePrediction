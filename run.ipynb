{
 "cells": [
  {
   "cell_type": "code",
   "execution_count": 5,
   "id": "a8f97f6e-da09-4eb5-8304-f4a639dc17fc",
   "metadata": {},
   "outputs": [],
   "source": [
    "import pandas as pd\n",
    "import matplotlib.pyplot as plt\n",
    "import numpy as np\n",
    "import seaborn as sns\n",
    "from sklearn.model_selection import train_test_split\n",
    "from sklearn.linear_model import LinearRegression\n",
    "from sklearn.metrics import mean_squared_error, mean_absolute_error, r2_score"
   ]
  },
  {
   "cell_type": "code",
   "execution_count": 6,
   "id": "dacd6140-0e6b-4961-942e-92dc282fd766",
   "metadata": {},
   "outputs": [
    {
     "data": {
      "text/plain": [
       "Date             0\n",
       "Gold_Price       0\n",
       "Crude_Oil        0\n",
       "Interest_Rate    0\n",
       "USD_INR          0\n",
       "Sensex           0\n",
       "CPI              0\n",
       "USD_Index        0\n",
       "dtype: int64"
      ]
     },
     "execution_count": 6,
     "metadata": {},
     "output_type": "execute_result"
    }
   ],
   "source": [
    "data=pd.read_csv(\"GoldUP.csv\")\n",
    "data.isna().sum()"
   ]
  },
  {
   "cell_type": "code",
   "execution_count": 7,
   "id": "b065aa4c-f5a6-4e86-ad81-1c09cd377320",
   "metadata": {},
   "outputs": [],
   "source": [
    "data['Date']=pd.to_datetime(data['Date'])\n",
    "data=data.sort_values(by='Date')\n",
    "UniqueDate=pd.to_datetime(data['Date'])\n",
    "#initially set to all the available dates"
   ]
  },
  {
   "cell_type": "markdown",
   "id": "40a047f4-7b72-4b79-af84-27cf3e31d040",
   "metadata": {},
   "source": [
    "## Resampling Timestamp in the data"
   ]
  },
  {
   "cell_type": "markdown",
   "id": "c5ef1f5d-c8ad-4ada-9847-3e7b15e1731c",
   "metadata": {},
   "source": [
    "#### First Step we make the date as the index as it one considered of the requirements to apply the sampling\n",
    "#### Then we sample the data based on selected input in our case we will sample by minute to generate more data"
   ]
  },
  {
   "cell_type": "code",
   "execution_count": 8,
   "id": "372536e6-8325-4d47-ad9f-bf93fc3ec036",
   "metadata": {},
   "outputs": [],
   "source": [
    "data.set_index('Date', drop=True, inplace=True)\n",
    "data=data.resample('3Min').interpolate(method='linear')\n",
    "data['Gold_Price']=np.random.normal(0,.2, len(data))\n",
    "data['Interest_Rate']=np.random.normal(0, .2, len(data))"
   ]
  },
  {
   "cell_type": "markdown",
   "id": "28aac965-6570-49b5-bca9-ed44b8ea1deb",
   "metadata": {},
   "source": [
    "#### Creating a method to Extract the data based on specific dates"
   ]
  },
  {
   "cell_type": "code",
   "execution_count": 9,
   "id": "56dbbcca-9ff3-44e2-82e0-5a091326129d",
   "metadata": {},
   "outputs": [],
   "source": [
    "trails=len(UniqueDate)\n",
    "def SelectUniqueDate():\n",
    "    SelectedField=[]\n",
    "    for i in range(trails):\n",
    "        SelectedField.append(data.loc[data.index.floor('D')==UniqueDate[i], ['Interest_Rate','Gold_Price']])\n",
    "    return SelectedField"
   ]
  },
  {
   "cell_type": "code",
   "execution_count": 10,
   "id": "72df7063-d559-4d08-aa40-15e76377e6f3",
   "metadata": {},
   "outputs": [],
   "source": [
    "def ApplyLinearRegression(X, Y):\n",
    "    x_train, x_test, y_train, y_test=train_test_split(X, Y, test_size=0.3, random_state=42)\n",
    "    Model=LinearRegression()\n",
    "    Model.fit(x_train, y_train)\n",
    "    Ypredicted=Model.predict(x_test)\n",
    "    R_Squared=r2_score(y_test, Ypredicted)\n",
    "    Mean2_Error=mean_squared_error(y_test, Ypredicted)\n",
    "    MeanA_Error=mean_absolute_error(y_test, Ypredicted)\n",
    "    return x_test, Ypredicted, Model, R_Squared, Mean2_Error, MeanA_Error\n",
    "    #returning y_test to calculate the output for the new input"
   ]
  },
  {
   "cell_type": "code",
   "execution_count": 11,
   "id": "d34bf73c-a05d-4636-9908-b2f07f04598e",
   "metadata": {},
   "outputs": [
    {
     "data": {
      "text/html": [
       "<div>\n",
       "<style scoped>\n",
       "    .dataframe tbody tr th:only-of-type {\n",
       "        vertical-align: middle;\n",
       "    }\n",
       "\n",
       "    .dataframe tbody tr th {\n",
       "        vertical-align: top;\n",
       "    }\n",
       "\n",
       "    .dataframe thead th {\n",
       "        text-align: right;\n",
       "    }\n",
       "</style>\n",
       "<table border=\"1\" class=\"dataframe\">\n",
       "  <thead>\n",
       "    <tr style=\"text-align: right;\">\n",
       "      <th></th>\n",
       "      <th>Day</th>\n",
       "      <th>Rsquared</th>\n",
       "      <th>Mean_Squared_Error</th>\n",
       "      <th>Mean_Absolute_Error</th>\n",
       "    </tr>\n",
       "  </thead>\n",
       "  <tbody>\n",
       "    <tr>\n",
       "      <th>0</th>\n",
       "      <td>1</td>\n",
       "      <td>0.002246</td>\n",
       "      <td>0.033262</td>\n",
       "      <td>0.143963</td>\n",
       "    </tr>\n",
       "    <tr>\n",
       "      <th>1</th>\n",
       "      <td>2</td>\n",
       "      <td>-0.023027</td>\n",
       "      <td>0.033979</td>\n",
       "      <td>0.148776</td>\n",
       "    </tr>\n",
       "    <tr>\n",
       "      <th>2</th>\n",
       "      <td>3</td>\n",
       "      <td>0.004534</td>\n",
       "      <td>0.041051</td>\n",
       "      <td>0.164899</td>\n",
       "    </tr>\n",
       "    <tr>\n",
       "      <th>3</th>\n",
       "      <td>4</td>\n",
       "      <td>-0.001980</td>\n",
       "      <td>0.041060</td>\n",
       "      <td>0.156220</td>\n",
       "    </tr>\n",
       "    <tr>\n",
       "      <th>4</th>\n",
       "      <td>5</td>\n",
       "      <td>-0.023123</td>\n",
       "      <td>0.043209</td>\n",
       "      <td>0.167472</td>\n",
       "    </tr>\n",
       "    <tr>\n",
       "      <th>...</th>\n",
       "      <td>...</td>\n",
       "      <td>...</td>\n",
       "      <td>...</td>\n",
       "      <td>...</td>\n",
       "    </tr>\n",
       "    <tr>\n",
       "      <th>233</th>\n",
       "      <td>234</td>\n",
       "      <td>0.000152</td>\n",
       "      <td>0.043149</td>\n",
       "      <td>0.168832</td>\n",
       "    </tr>\n",
       "    <tr>\n",
       "      <th>234</th>\n",
       "      <td>235</td>\n",
       "      <td>0.000162</td>\n",
       "      <td>0.044316</td>\n",
       "      <td>0.174747</td>\n",
       "    </tr>\n",
       "    <tr>\n",
       "      <th>235</th>\n",
       "      <td>236</td>\n",
       "      <td>-0.013501</td>\n",
       "      <td>0.039288</td>\n",
       "      <td>0.157882</td>\n",
       "    </tr>\n",
       "    <tr>\n",
       "      <th>236</th>\n",
       "      <td>237</td>\n",
       "      <td>-0.069137</td>\n",
       "      <td>0.040040</td>\n",
       "      <td>0.158222</td>\n",
       "    </tr>\n",
       "    <tr>\n",
       "      <th>237</th>\n",
       "      <td>238</td>\n",
       "      <td>-0.000423</td>\n",
       "      <td>0.039962</td>\n",
       "      <td>0.157546</td>\n",
       "    </tr>\n",
       "  </tbody>\n",
       "</table>\n",
       "<p>238 rows × 4 columns</p>\n",
       "</div>"
      ],
      "text/plain": [
       "     Day  Rsquared  Mean_Squared_Error  Mean_Absolute_Error\n",
       "0      1  0.002246            0.033262             0.143963\n",
       "1      2 -0.023027            0.033979             0.148776\n",
       "2      3  0.004534            0.041051             0.164899\n",
       "3      4 -0.001980            0.041060             0.156220\n",
       "4      5 -0.023123            0.043209             0.167472\n",
       "..   ...       ...                 ...                  ...\n",
       "233  234  0.000152            0.043149             0.168832\n",
       "234  235  0.000162            0.044316             0.174747\n",
       "235  236 -0.013501            0.039288             0.157882\n",
       "236  237 -0.069137            0.040040             0.158222\n",
       "237  238 -0.000423            0.039962             0.157546\n",
       "\n",
       "[238 rows x 4 columns]"
      ]
     },
     "execution_count": 11,
     "metadata": {},
     "output_type": "execute_result"
    }
   ],
   "source": [
    "def ModelApplication():\n",
    "    Field=SelectUniqueDate()\n",
    "    ModelComparison=[]\n",
    "    ModelComparisonFrame=pd.DataFrame()\n",
    "    for i in range(trails-1):\n",
    "        x=pd.DataFrame(Field[i]['Interest_Rate'])\n",
    "        y=pd.DataFrame(Field[i]['Gold_Price'])\n",
    "        x_test, Ypredicted, Model, R_Squared, Mean2_Error, MeanA_Error=ApplyLinearRegression(x, y)\n",
    "        day=i+1\n",
    "        dayIndex=index =Field[i].index[0]\n",
    "        ComparisonFrame=pd.DataFrame({\n",
    "            \"Day\":[day],\n",
    "            \"Rsquared\":[R_Squared],\n",
    "            \"Mean_Squared_Error\":[Mean2_Error],\n",
    "            \"Mean_Absolute_Error\":[MeanA_Error],\n",
    "        } , index=[dayIndex]\n",
    "        )\n",
    "        ModelComparisonFrame=pd.concat([ModelComparisonFrame, ComparisonFrame], ignore_index=True)\n",
    "    \n",
    "    return ModelComparisonFrame\n",
    "    \n",
    "Model_C_F=ModelApplication()\n",
    "Model_C_F"
   ]
  },
  {
   "cell_type": "code",
   "execution_count": 12,
   "id": "3764b875-ec89-47da-aa79-3ba0b4090ce1",
   "metadata": {},
   "outputs": [
    {
     "name": "stdin",
     "output_type": "stream",
     "text": [
      "Enter the USD Interest Rate to display the Gold Price Chnage:  45\n"
     ]
    },
    {
     "name": "stdout",
     "output_type": "stream",
     "text": [
      "The USD Change for the same is 3.58 \n",
      "The R squared is -0.015780\n"
     ]
    }
   ],
   "source": [
    "# Testing the model from user input\n",
    "day=7\n",
    "def Display():\n",
    "    Field=SelectUniqueDate()\n",
    "    ModelComparison=[]\n",
    "    ModelComparisonFrame=pd.DataFrame()\n",
    "    x=pd.DataFrame(Field[day]['Interest_Rate'])\n",
    "    y=pd.DataFrame(Field[day]['Gold_Price'])\n",
    "    x_test, Ypredicted, Model, R_Squared, Mean2_Error, MeanA_Error=ApplyLinearRegression(x, y)    \n",
    "    Interest_Rate=float(input(\"Enter the USD Interest Rate to display the Gold Price Chnage: \"))\n",
    "    Interest_Rate=pd.DataFrame({'Interest_Rate':[Interest_Rate]})\n",
    "    value=Model.predict(Interest_Rate).item()\n",
    "    print(f\"The USD Change for the same is {value:.2f} \\nThe R squared is {float(R_Squared):.6f}\")\n",
    "    \n",
    "Display()"
   ]
  },
  {
   "cell_type": "code",
   "execution_count": 13,
   "id": "5948ff64-d74d-4949-9df5-9b4145a592ae",
   "metadata": {},
   "outputs": [
    {
     "data": {
      "image/png": "[encoded data removed]",
      "text/plain": [
       "<Figure size 640x480 with 1 Axes>"
      ]
     },
     "metadata": {},
     "output_type": "display_data"
    }
   ],
   "source": [
    "plt.style.use('ggplot')\n",
    "def Visualize():\n",
    "    Data=SelectUniqueDate()\n",
    "    Field=ModelApplication()\n",
    "    BestRsquaredDay=Field.loc[Field['Rsquared'].idxmax(),'Day']\n",
    "    x=pd.DataFrame(Data[BestRsquaredDay]['Interest_Rate'])\n",
    "    y=pd.DataFrame(Data[BestRsquaredDay]['Gold_Price'])\n",
    "    x_test, Ypredicted, Model, R_Squared, Mean2_Error, MeanA_Error=ApplyLinearRegression(x, y)\n",
    "    Ypredicted=Ypredicted.ravel()\n",
    "    x_test=x_test.assign(Gold_Price=Ypredicted)\n",
    "    fig, ax=plt.subplots()\n",
    "    plt.hist2d(x_test['Interest_Rate'], x_test['Gold_Price'], bins=(10,10), cmap='Blues')\n",
    "    ax.tick_params(axis='x', color='blue')\n",
    "    ax.tick_params(axis='x', color='blue')\n",
    "    ax.set_title(\"Gold Price Chnage by USD Interest Date\")\n",
    "    ax.set_ylabel(\"Gold Price\")\n",
    "    ax.set_xlabel(\"Interest Rate\")\n",
    "    plt.show()\n",
    "    \n",
    "Visualize()    "
   ]
  },
  {
   "cell_type": "code",
   "execution_count": null,
   "id": "17957103-0cfe-4a52-a3c8-ef24a0504bf9",
   "metadata": {},
   "outputs": [],
   "source": []
  }
 ],
 "metadata": {
  "kernelspec": {
   "display_name": "Python 3 (ipykernel)",
   "language": "python",
   "name": "python3"
  },
  "language_info": {
   "codemirror_mode": {
    "name": "ipython",
    "version": 3
   },
   "file_extension": ".py",
   "mimetype": "text/x-python",
   "name": "python",
   "nbconvert_exporter": "python",
   "pygments_lexer": "ipython3",
   "version": "3.12.3"
  }
 },
 "nbformat": 4,
 "nbformat_minor": 5
}
